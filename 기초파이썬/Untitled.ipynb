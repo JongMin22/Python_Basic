{
 "cells": [
  {
   "cell_type": "markdown",
   "id": "c902ef63",
   "metadata": {},
   "source": [
    "주피터 노트북 사용법\n",
    "\n",
    "셀을 클릭하면 녹색으로 선택 영역이 지정됨. 녹색으로 선택된 셀에는 키보드 입력시 코드/입력문이 직접 입력됨. 녹색으로 선택된 셀에 esc를 누르거나 혹은 외부 영역 클릭시 선택이 해제되어 파란색으로 테두리가 바뀜.\n",
    "\n",
    "파란색으로 선택된 셀에 \n",
    "b 입력 => 선택된 셀 아래에 입력용 셀 추가 \n",
    "a 입력 => 선택된 셀 위에 입력용 셀 추가\n",
    "dd(두번 입력) => 파란색으로 선택된 셀 삭제\n",
    "\n",
    "m => 선택된 셀을 코드 입력용이 아닌 필기용(마크 다운)으로 전환 y => 선택된 셀을 필기용에서 코드입력용으로 전환\n",
    "\n",
    "필기가 완전히 끝난 필기용 셀(마크다운)은 Shift + Enter 를 눌러서 조회용 셀로 전환할 수 있다. 조회용 셀은 더블클릭하면 다시 수정용 셀로 바뀐다."
   ]
  },
  {
   "cell_type": "markdown",
   "id": "dd8fcbd3",
   "metadata": {},
   "source": [
    "# 주피터노트북 필기\n",
    "## #키를 이용하면 글씨 크기 조절이\n",
    "### 가능합니다\n",
    "#### #갯수가 많아지면 많아질수록\n",
    "##### 글씨크기는 작아집니다.\n",
    "###### #은 6개까지 쓸 수 있습니다.\n",
    "\n",
    "-나열해서 필기하고 싶다면 \n",
    "- \"-\"의 한칸 뒤에 필기를 하면 됩니다.\n",
    "- 이렇게 나열이 됩니다.\n",
    "    - 띄어쓰기 네칸 + - 를붙이면 \n",
    "    - 도트 아래 하위항목으로 간주됩니다.\n",
    "        - 도트 아래에서 다시 띄어쓰기를 네번 더 하면\n",
    "        - 하위 항목의 하위 항목으로 간주됩니다."
   ]
  },
  {
   "cell_type": "code",
   "execution_count": null,
   "id": "ca7b5b9f",
   "metadata": {},
   "outputs": [],
   "source": []
  },
  {
   "cell_type": "code",
   "execution_count": null,
   "id": "39f3c7fb",
   "metadata": {},
   "outputs": [],
   "source": []
  }
 ],
 "metadata": {
  "kernelspec": {
   "display_name": "Python 3 (ipykernel)",
   "language": "python",
   "name": "python3"
  },
  "language_info": {
   "codemirror_mode": {
    "name": "ipython",
    "version": 3
   },
   "file_extension": ".py",
   "mimetype": "text/x-python",
   "name": "python",
   "nbconvert_exporter": "python",
   "pygments_lexer": "ipython3",
   "version": "3.9.12"
  }
 },
 "nbformat": 4,
 "nbformat_minor": 5
}
