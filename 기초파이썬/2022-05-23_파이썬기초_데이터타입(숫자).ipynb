{
 "cells": [
  {
   "cell_type": "markdown",
   "id": "1b49430b",
   "metadata": {},
   "source": [
    "# 데이터 타입\n",
    "## >숫자형\n",
    "- 종류\n",
    "    - 정수 : 0, 양수 , 음수인 숫자 \n",
    "    - 실수 : 소수점을 포함하는 숫자\n",
    "    - 8진수 : 0o 또는 00 (왼쪽 숫자0, 오른쪽 알파벳o)로 시작 : 0o34, 0-25\n",
    "    - 16진수 (0x로 시작 ): 0x2A, 0xFF"
   ]
  },
  {
   "cell_type": "markdown",
   "id": "cd6fd127",
   "metadata": {},
   "source": [
    "### 정수형"
   ]
  },
  {
   "cell_type": "code",
   "execution_count": 1,
   "id": "b0462e80",
   "metadata": {},
   "outputs": [],
   "source": [
    "a = 10\n",
    "b = -20\n",
    "c = 0"
   ]
  },
  {
   "cell_type": "code",
   "execution_count": 2,
   "id": "016f15d2",
   "metadata": {},
   "outputs": [
    {
     "name": "stdout",
     "output_type": "stream",
     "text": [
      "-10\n"
     ]
    }
   ],
   "source": [
    "print(a + b)"
   ]
  },
  {
   "cell_type": "code",
   "execution_count": 3,
   "id": "e179ed0e",
   "metadata": {},
   "outputs": [
    {
     "data": {
      "text/plain": [
       "int"
      ]
     },
     "execution_count": 3,
     "metadata": {},
     "output_type": "execute_result"
    }
   ],
   "source": [
    "# 내용물 자체가 아니라, 내용물의 타입(종류)를 확인하는 명령어 \n",
    "type(a)"
   ]
  },
  {
   "cell_type": "markdown",
   "id": "77bc1914",
   "metadata": {},
   "source": [
    "### 실수형"
   ]
  },
  {
   "cell_type": "code",
   "execution_count": 4,
   "id": "f8e69f14",
   "metadata": {},
   "outputs": [],
   "source": [
    "# 양의실수 , 음의실수 : float\n",
    "a = 1.3\n",
    "b = -2.4\n",
    "c = 0.0"
   ]
  },
  {
   "cell_type": "code",
   "execution_count": 5,
   "id": "dae6066d",
   "metadata": {},
   "outputs": [
    {
     "data": {
      "text/plain": [
       "float"
      ]
     },
     "execution_count": 5,
     "metadata": {},
     "output_type": "execute_result"
    }
   ],
   "source": [
    "# b에 들어있는 자료의 타입을 확인해보세요.\n",
    "print(type(a) , type(b) ,type(c))"
   ]
  },
  {
   "cell_type": "markdown",
   "id": "aa3b0682",
   "metadata": {},
   "source": [
    "## > 연산자\n",
    "- 산술 : +, -, *, /, //(몫), %(나머지), **(제곱)\n",
    "- 비교 : ==(값이 같은지), !=(값이 다른지), <=, >=, <, >\n",
    "- 논리 : and, or\n",
    "- 할당 : =, +=(누적차), *=(누적곱), /=(몫만 남기기), %=(나머지만 남기기)\n"
   ]
  },
  {
   "cell_type": "markdown",
   "id": "5593f0c8",
   "metadata": {},
   "source": [
    "### 1) 산술연산자 : 숫자를 계산하기 위한 문법 기호"
   ]
  },
  {
   "cell_type": "code",
   "execution_count": 6,
   "id": "6fd18d0a",
   "metadata": {},
   "outputs": [
    {
     "data": {
      "text/plain": [
       "17.7"
      ]
     },
     "execution_count": 6,
     "metadata": {},
     "output_type": "execute_result"
    }
   ],
   "source": [
    "# 더하기 : +\n",
    "10 + 3 # 정수 + 정수 => 정수로 출력\n",
    "13.3 + 2.4 # 실수 + 실수 => 실수로 출력 \n",
    "15.7 + 2  # 정수 + 실수 => 실수로 출력"
   ]
  },
  {
   "cell_type": "code",
   "execution_count": 7,
   "id": "0bda73fb",
   "metadata": {},
   "outputs": [
    {
     "data": {
      "text/plain": [
       "-4.7"
      ]
     },
     "execution_count": 7,
     "metadata": {},
     "output_type": "execute_result"
    }
   ],
   "source": [
    "# 뺴기 : - \n",
    "10-3\n",
    "3 - 7.7"
   ]
  },
  {
   "cell_type": "code",
   "execution_count": 8,
   "id": "c089f688",
   "metadata": {},
   "outputs": [
    {
     "data": {
      "text/plain": [
       "1.3333333333333333"
      ]
     },
     "execution_count": 8,
     "metadata": {},
     "output_type": "execute_result"
    }
   ],
   "source": [
    "# 나누기 : /\n",
    "4 / 3 # 정수 / 정수 = 실수\n"
   ]
  },
  {
   "cell_type": "code",
   "execution_count": 18,
   "id": "47dccd21",
   "metadata": {},
   "outputs": [
    {
     "data": {
      "text/plain": [
       "-5"
      ]
     },
     "execution_count": 18,
     "metadata": {},
     "output_type": "execute_result"
    }
   ],
   "source": [
    "# 곱하기 : *\n",
    "4 * 3\n",
    "(3 - 4) * 5\n"
   ]
  },
  {
   "cell_type": "code",
   "execution_count": 11,
   "id": "1427f6e8",
   "metadata": {},
   "outputs": [
    {
     "data": {
      "text/plain": [
       "1"
      ]
     },
     "execution_count": 11,
     "metadata": {},
     "output_type": "execute_result"
    }
   ],
   "source": [
    "# 정수 몫 반환 ://\n",
    "# 나눗셈의 결과값보다 작은 정수중에 가장 큰 정수 \n",
    "5 // 4"
   ]
  },
  {
   "cell_type": "code",
   "execution_count": 12,
   "id": "51f2b2c7",
   "metadata": {},
   "outputs": [
    {
     "data": {
      "text/plain": [
       "3"
      ]
     },
     "execution_count": 12,
     "metadata": {},
     "output_type": "execute_result"
    }
   ],
   "source": [
    "# 정수 몫을 구하고 남은 나머지만 반환 : %\n",
    "3 % 4 "
   ]
  },
  {
   "cell_type": "code",
   "execution_count": 13,
   "id": "106fdcf3",
   "metadata": {},
   "outputs": [
    {
     "data": {
      "text/plain": [
       "1.4142135623730951"
      ]
     },
     "execution_count": 13,
     "metadata": {},
     "output_type": "execute_result"
    }
   ],
   "source": [
    "# 제곱 : **\n",
    "2 ** 3\n",
    "2 ** 0.5"
   ]
  },
  {
   "cell_type": "markdown",
   "id": "afaca6af",
   "metadata": {},
   "source": [
    "### 2) 비교연산자 : 자료를 비교하기 위한 문법 기호\n",
    "    - 결과가 숫자가 아니라 bool type의 결과를 가진다 \n",
    "    \n",
    "> #### bool type\n",
    "    - True : 0이 아닌 숫자, 참인 조건식 등 \n",
    "    - False : 0, 거짓인 조건식 등 \n",
    "- 값에 대한 비교 : ==, !=\n",
    "- 크기에 대한 비교 : >, < >=, <="
   ]
  },
  {
   "cell_type": "code",
   "execution_count": 19,
   "id": "12567c42",
   "metadata": {},
   "outputs": [
    {
     "data": {
      "text/plain": [
       "False"
      ]
     },
     "execution_count": 19,
     "metadata": {},
     "output_type": "execute_result"
    }
   ],
   "source": [
    "# 두 값이 같은지 비교  : == \n",
    "# (결과) 두 값이 같으면 True, 두 값이 다르면 False\n",
    "0 == 0.0 \n",
    "1 == 1.0\n",
    "type(0) == type(0.0)"
   ]
  },
  {
   "cell_type": "code",
   "execution_count": 20,
   "id": "83a982a3",
   "metadata": {},
   "outputs": [
    {
     "data": {
      "text/plain": [
       "True"
      ]
     },
     "execution_count": 20,
     "metadata": {},
     "output_type": "execute_result"
    }
   ],
   "source": [
    "# 두 값이 다른지 비교  : != \n",
    "# (결과) 두 값이 다르면 True, 두 값이 같으면 False \n",
    "type(0) != type(0.0)"
   ]
  },
  {
   "cell_type": "markdown",
   "id": "1fc77b53",
   "metadata": {},
   "source": [
    "#### 3) 논리연산자\n",
    "- 여러 개의 조건식을 활용하기 위한 명령어\n",
    "- and, or이 있음\n",
    "- bool type 결과 반환 : True, False"
   ]
  },
  {
   "cell_type": "code",
   "execution_count": 21,
   "id": "fa1257bc",
   "metadata": {},
   "outputs": [
    {
     "data": {
      "text/plain": [
       "True"
      ]
     },
     "execution_count": 21,
     "metadata": {},
     "output_type": "execute_result"
    }
   ],
   "source": [
    "# and 연산자 : 조건식1 and 조건식2\n",
    "# 조건식1과 조건식2가 모두 True면 최종결과는 True\n",
    "# 둘 중 하나만 false여도 최종결과는 False\n",
    "# enfek False이면 최종결과는 False\n",
    "연봉 = 4000\n",
    "거리 = 30 \n",
    "연봉 > 3500 and 거리 < 35"
   ]
  },
  {
   "cell_type": "code",
   "execution_count": 22,
   "id": "45cd99c5",
   "metadata": {},
   "outputs": [
    {
     "data": {
      "text/plain": [
       "True"
      ]
     },
     "execution_count": 22,
     "metadata": {},
     "output_type": "execute_result"
    }
   ],
   "source": [
    "# or 연산자 \n",
    "# 조건식1 or 조건식2\n",
    "# 둘 중 하나만 True여도 최종결과는 True\n",
    "# 둘 다 False일 때 최종결과는 False\n",
    "3==5 or 7==7"
   ]
  },
  {
   "cell_type": "code",
   "execution_count": 23,
   "id": "df52717b",
   "metadata": {},
   "outputs": [
    {
     "data": {
      "text/plain": [
       "False"
      ]
     },
     "execution_count": 23,
     "metadata": {},
     "output_type": "execute_result"
    }
   ],
   "source": [
    "# 숫자 0은 False 이외에 모든 숫자는 True\n",
    "# bool(자료)는 자료의 참, 거짓을 판단해줍니다.\n",
    "bool(0)"
   ]
  },
  {
   "cell_type": "markdown",
   "id": "fc487cb9",
   "metadata": {},
   "source": [
    "##### 4) 할당연산자\n",
    "\n"
   ]
  },
  {
   "cell_type": "code",
   "execution_count": 24,
   "id": "d84e4b8c",
   "metadata": {},
   "outputs": [],
   "source": [
    "# 변수명(왼쪽)에 변수값(오른쪽)을 할당/선언/저장 : =\n",
    "x = 10 "
   ]
  },
  {
   "cell_type": "code",
   "execution_count": 25,
   "id": "ced43608",
   "metadata": {},
   "outputs": [
    {
     "data": {
      "text/plain": [
       "30"
      ]
     },
     "execution_count": 25,
     "metadata": {},
     "output_type": "execute_result"
    }
   ],
   "source": [
    "# 숫자형의 누적 합계 +=\n",
    "# result라는 변수에 누적합을 저장하기\n",
    "# 지금 하단 코드를 result에 x변수만큼 더해서 출력하도록 고쳐주세요.\n",
    "result = 20\n",
    "result += x #result = result + x\n",
    "result"
   ]
  },
  {
   "cell_type": "code",
   "execution_count": 26,
   "id": "0553ba70",
   "metadata": {},
   "outputs": [
    {
     "data": {
      "text/plain": [
       "29"
      ]
     },
     "execution_count": 26,
     "metadata": {},
     "output_type": "execute_result"
    }
   ],
   "source": [
    "# 숫자형의 누적 차\n",
    "result -= 1\n",
    "result "
   ]
  },
  {
   "cell_type": "code",
   "execution_count": 27,
   "id": "d3f39d98",
   "metadata": {},
   "outputs": [
    {
     "data": {
      "text/plain": [
       "58"
      ]
     },
     "execution_count": 27,
     "metadata": {},
     "output_type": "execute_result"
    }
   ],
   "source": [
    "# 누적 곱\n",
    "# result에 2를 곱한 값을 화면에 출력해주세요.\n",
    "result *=2\n",
    "result"
   ]
  },
  {
   "cell_type": "code",
   "execution_count": 28,
   "id": "9cdbdd18",
   "metadata": {},
   "outputs": [
    {
     "name": "stdout",
     "output_type": "stream",
     "text": [
      "55\n"
     ]
    }
   ],
   "source": [
    "# 숫자형의 누적 합계 +=\n",
    "# result라는 변수에 누적합을 저장하기\n",
    "# 지금 하단 코드를 result에 x변수만큼 더해서 출력하도록 고쳐주세요.\n",
    "result = 0\n",
    "\n",
    "for i in range(1, 11):\n",
    "    result+=i\n",
    "print(result)"
   ]
  },
  {
   "cell_type": "code",
   "execution_count": 7,
   "id": "665c998d",
   "metadata": {},
   "outputs": [
    {
     "name": "stdout",
     "output_type": "stream",
     "text": [
      "총합: 308\n",
      "평균: 77.0\n"
     ]
    }
   ],
   "source": [
    "### 1. 홍길동 시험성적 평균을 구하세요.\n",
    "\n",
    "eng = 80\n",
    "kor = 72\n",
    "math = 90\n",
    "social = 66\n",
    "total = eng + kor + math + social\n",
    "print(\"총합:\",total)\n",
    "print(\"평균:\",total / 4.0)"
   ]
  },
  {
   "cell_type": "markdown",
   "id": "34a83a53",
   "metadata": {},
   "source": [
    "### 2. 반지름이 7인 원의 넓이를 구해주세요\n",
    "\n",
    "(참고) 원 넓이 = (반지름 ** 2) * 3.14\n",
    "\n",
    "- 반지름과 원 넓이는 모두 변수로 저장해줍니다.\n",
    "- 출력 양식<br>\n",
    "반지름 : 3\n",
    "원 넓이 : 27(소수점 없이 정수로 출력)"
   ]
  },
  {
   "cell_type": "code",
   "execution_count": 15,
   "id": "f6f4abff",
   "metadata": {},
   "outputs": [
    {
     "name": "stdout",
     "output_type": "stream",
     "text": [
      "반지름: 7 원 넓이: 153\n"
     ]
    }
   ],
   "source": [
    "radius = 7\n",
    "pie = 3.14\n",
    "area = radius ** 2 * pie\n",
    "print(\"반지름:\",radius ,\"원 넓이:\",int(area))"
   ]
  },
  {
   "cell_type": "markdown",
   "id": "0e79a6ca",
   "metadata": {},
   "source": [
    "### 3. 여러분들이 직접 임의의 변수에 원하는 숫자를 집어넣고 그 숫자의 제곱근과 세제곱 값을 출력해주세요."
   ]
  },
  {
   "cell_type": "code",
   "execution_count": 16,
   "id": "7ddd48a7",
   "metadata": {},
   "outputs": [
    {
     "name": "stdout",
     "output_type": "stream",
     "text": [
      "제곱근 : 1.4142135623730951 세제곱 값 : 8\n",
      "제곱근 : 1.7320508075688772 세제곱 값 : 27\n"
     ]
    }
   ],
   "source": [
    "a = 2\n",
    "b = 3\n",
    "print(\"제곱근 :\", a**0.5  ,\"세제곱 값 :\",a**3)\n",
    "print(\"제곱근 :\", b**0.5  ,\"세제곱 값 :\",b**3)"
   ]
  },
  {
   "cell_type": "code",
   "execution_count": null,
   "id": "e85fbdcd",
   "metadata": {},
   "outputs": [],
   "source": []
  },
  {
   "cell_type": "code",
   "execution_count": null,
   "id": "f4a13ee2",
   "metadata": {},
   "outputs": [],
   "source": []
  }
 ],
 "metadata": {
  "kernelspec": {
   "display_name": "Python 3 (ipykernel)",
   "language": "python",
   "name": "python3"
  },
  "language_info": {
   "codemirror_mode": {
    "name": "ipython",
    "version": 3
   },
   "file_extension": ".py",
   "mimetype": "text/x-python",
   "name": "python",
   "nbconvert_exporter": "python",
   "pygments_lexer": "ipython3",
   "version": "3.9.12"
  }
 },
 "nbformat": 4,
 "nbformat_minor": 5
}
