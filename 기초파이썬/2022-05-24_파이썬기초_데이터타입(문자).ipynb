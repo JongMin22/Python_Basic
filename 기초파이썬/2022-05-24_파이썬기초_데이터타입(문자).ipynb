{
 "cells": [
  {
   "cell_type": "markdown",
   "id": "6564ec36",
   "metadata": {},
   "source": [
    "# 데이터타입\n",
    "# 문자형\n"
   ]
  },
  {
   "cell_type": "markdown",
   "id": "486c8bb4",
   "metadata": {},
   "source": [
    "# >생성하기\n",
    "> 여닫는 따옴표는 반드시 문자의 앞 뒤에 한 쌍으로 완성해야한다.\n",
    "### 1)한 줄 문자열 : ',\""
   ]
  },
  {
   "cell_type": "code",
   "execution_count": 1,
   "id": "4c0eba40",
   "metadata": {},
   "outputs": [
    {
     "data": {
      "text/plain": [
       "'10'"
      ]
     },
     "execution_count": 1,
     "metadata": {},
     "output_type": "execute_result"
    }
   ],
   "source": [
    "'10'"
   ]
  },
  {
   "cell_type": "code",
   "execution_count": 2,
   "id": "f810373b",
   "metadata": {
    "collapsed": true
   },
   "outputs": [
    {
     "ename": "SyntaxError",
     "evalue": "EOL while scanning string literal (1710427243.py, line 1)",
     "output_type": "error",
     "traceback": [
      "\u001b[1;36m  Input \u001b[1;32mIn [2]\u001b[1;36m\u001b[0m\n\u001b[1;33m    a='안녕하세요\u001b[0m\n\u001b[1;37m            ^\u001b[0m\n\u001b[1;31mSyntaxError\u001b[0m\u001b[1;31m:\u001b[0m EOL while scanning string literal\n"
     ]
    }
   ],
   "source": [
    " a='안녕하세요\n",
    "    반갑습니다'"
   ]
  },
  {
   "cell_type": "code",
   "execution_count": 3,
   "id": "e265270e",
   "metadata": {},
   "outputs": [
    {
     "name": "stdout",
     "output_type": "stream",
     "text": [
      "안녕하세요 \n",
      " 반갑습니다\n"
     ]
    }
   ],
   "source": [
    "a='안녕하세요 \\n 반갑습니다'\n",
    "print(a)"
   ]
  },
  {
   "cell_type": "markdown",
   "id": "82bd6d0e",
   "metadata": {},
   "source": [
    "# 2)여러 줄 문자열 : ''',\"\"\"\n",
    "\n",
    "- print()를 했을때 줄바꿈(enter)가 그대로ㅠ 반영되는 문자열로 처리 가능 \n",
    "- 단 화면에서 보기를 하면 (print 없이 마지막 줄에 변수넣고 셀을 실행해서 보면)\n",
    "- 줄바꿈이 바로 나타나지 않고 엔터키가 쳐진 줄바꿈 구간은 \\n으로 대신 표현됩니다."
   ]
  },
  {
   "cell_type": "code",
   "execution_count": 11,
   "id": "2fe5c49d",
   "metadata": {},
   "outputs": [
    {
     "data": {
      "text/plain": [
       "'안녕하세요\\n반갑습니다.\\n보라돌이\\n뚜비\\n나나\\n뽀'"
      ]
     },
     "execution_count": 11,
     "metadata": {},
     "output_type": "execute_result"
    }
   ],
   "source": [
    "a= \"\"\"안녕하세요\n",
    "반갑습니다.\n",
    "보라돌이\n",
    "뚜비\n",
    "나나\n",
    "뽀\"\"\"\n",
    "a"
   ]
  },
  {
   "cell_type": "code",
   "execution_count": 12,
   "id": "1e82aee1",
   "metadata": {},
   "outputs": [
    {
     "name": "stdout",
     "output_type": "stream",
     "text": [
      "안녕하세요\n",
      "반갑습니다.\n",
      "보라돌이\n",
      "뚜비\n",
      "나나\n",
      "뽀\n"
     ]
    }
   ],
   "source": [
    "print(a)"
   ]
  },
  {
   "cell_type": "markdown",
   "id": "40bbc100",
   "metadata": {},
   "source": [
    "## 3) 문자 속에 문자열 기호 사용하기\n",
    "- 문자열에서 자주 쓰는 기호 : ',\""
   ]
  },
  {
   "cell_type": "code",
   "execution_count": 14,
   "id": "15668da2",
   "metadata": {},
   "outputs": [
    {
     "name": "stdout",
     "output_type": "stream",
     "text": [
      "She's happy.\n"
     ]
    }
   ],
   "source": [
    "# 언어, 문자에서 많이 쓰이는 기호 : she's,  \"설렁탕을 사왔는데 왜 먹지를 못하나...\"\n",
    "a = \"She's happy.\"\n",
    "print(a)\n"
   ]
  },
  {
   "cell_type": "code",
   "execution_count": 16,
   "id": "716ce4eb",
   "metadata": {},
   "outputs": [
    {
     "name": "stdout",
     "output_type": "stream",
     "text": [
      "She' happy.\n"
     ]
    }
   ],
   "source": [
    "b = 'She\\' happy.'\n",
    "print(b)"
   ]
  },
  {
   "cell_type": "code",
   "execution_count": 19,
   "id": "e8a1b752",
   "metadata": {},
   "outputs": [
    {
     "name": "stdout",
     "output_type": "stream",
     "text": [
      "aaaaaaaaaaaaaaaaaaaaaaaaaaaaaaaaaaaaaaaaaaaaaaaaaaaaaaaaaaaaaaaaaaaaaaa\n"
     ]
    }
   ],
   "source": [
    "c= 'aaaaaaaaaaaaaaaaaaaaa\\\n",
    "aaaaaaaaaaaaaaaaaaaaaaaaa\\\n",
    "aaaaaaaaaaaaaaaaaaaaaaaaa'\n",
    "print(c)"
   ]
  },
  {
   "cell_type": "markdown",
   "id": "477c9d3f",
   "metadata": {},
   "source": [
    "# <<연습문제>>\n",
    "### 1. 아래와 같은 여러 줄의 문장을 문자열로 만들어서 lines라는 변수에 할당하세요.\n",
    "> 파이썬도 배우고\n",
    "> 장고도 배우고 \n",
    "> 할 게 너무 많아\n",
    "\n",
    "방법 1) 여러 줄 문자열 활용하기(lines 변수에 할당)\n",
    "방법 2) 한 줄 문자열 내부에 \\n을 사이사이에 활용하기(line 변수에 할당)\n"
   ]
  },
  {
   "cell_type": "code",
   "execution_count": 20,
   "id": "13e5cd58",
   "metadata": {},
   "outputs": [
    {
     "name": "stdout",
     "output_type": "stream",
     "text": [
      "파이썬도 배우고\n",
      "장고도 배우고\n",
      "할 게 너무 많아\n",
      "파이썬도 배우고\n",
      "장고도 배우고\n",
      "할 게 너무 많아\n"
     ]
    }
   ],
   "source": [
    "lines = \"\"\"파이썬도 배우고\n",
    "장고도 배우고\n",
    "할 게 너무 많아\"\"\"\n",
    "line = \"파이썬도 배우고\\n장고도 배우고\\n할 게 너무 많아\"\n",
    "print(lines)\n",
    "print(line)"
   ]
  },
  {
   "cell_type": "markdown",
   "id": "3e71eb65",
   "metadata": {},
   "source": [
    "## > 연산하기 \n",
    "### 1) 산술연산자 : 문자, 숫자를 함께 연산하기 위한 문법 기호\n",
    "\n",
    "- 문자와 문자를 연결\n",
    "- 동일한 문자를 반복해서 연결\n"
   ]
  },
  {
   "cell_type": "code",
   "execution_count": 21,
   "id": "e9fa48bc",
   "metadata": {},
   "outputs": [
    {
     "data": {
      "text/plain": [
       "'가나'"
      ]
     },
     "execution_count": 21,
     "metadata": {},
     "output_type": "execute_result"
    }
   ],
   "source": [
    "# 문자와 문자를 연결 : +\n",
    "'가' + '나'"
   ]
  },
  {
   "cell_type": "code",
   "execution_count": 22,
   "id": "3f99590b",
   "metadata": {},
   "outputs": [
    {
     "data": {
      "text/plain": [
       "'가 나'"
      ]
     },
     "execution_count": 22,
     "metadata": {},
     "output_type": "execute_result"
    }
   ],
   "source": [
    "# 1. 문자열 자체에 공백 추가하기('가 나' 로 출력되게 만들기)\n",
    "'가' +' ' + '나'"
   ]
  },
  {
   "cell_type": "code",
   "execution_count": 23,
   "id": "a3bdcf2c",
   "metadata": {},
   "outputs": [
    {
     "ename": "TypeError",
     "evalue": "can only concatenate str (not \"int\") to str",
     "output_type": "error",
     "traceback": [
      "\u001b[1;31m---------------------------------------------------------------------------\u001b[0m",
      "\u001b[1;31mTypeError\u001b[0m                                 Traceback (most recent call last)",
      "Input \u001b[1;32mIn [23]\u001b[0m, in \u001b[0;36m<cell line: 2>\u001b[1;34m()\u001b[0m\n\u001b[0;32m      1\u001b[0m \u001b[38;5;66;03m# 2. 문자 + 문자가 아닌 자료형(ex 숫자) = Error\u001b[39;00m\n\u001b[1;32m----> 2\u001b[0m \u001b[38;5;124;43m'\u001b[39;49m\u001b[38;5;124;43m가\u001b[39;49m\u001b[38;5;124;43m'\u001b[39;49m\u001b[43m \u001b[49m\u001b[38;5;241;43m+\u001b[39;49m\u001b[43m \u001b[49m\u001b[38;5;241;43m1\u001b[39;49m\n",
      "\u001b[1;31mTypeError\u001b[0m: can only concatenate str (not \"int\") to str"
     ]
    }
   ],
   "source": [
    "# 2. 문자 + 문자가 아닌 자료형(ex 숫자) = Error\n",
    "'가' + 1"
   ]
  },
  {
   "cell_type": "code",
   "execution_count": 27,
   "id": "13e8710b",
   "metadata": {},
   "outputs": [
    {
     "data": {
      "text/plain": [
       "'abcabcabc'"
      ]
     },
     "execution_count": 27,
     "metadata": {},
     "output_type": "execute_result"
    }
   ],
   "source": [
    "# 3. 문자를 여러번 반복하기 : * \n",
    "# 동일한 문자열을 여러 번 반복 연결시켜줌\n",
    "'abc' * 3 # 'abc' + 'abc'"
   ]
  },
  {
   "cell_type": "code",
   "execution_count": 29,
   "id": "57a404a1",
   "metadata": {},
   "outputs": [
    {
     "ename": "TypeError",
     "evalue": "can't multiply sequence by non-int of type 'str'",
     "output_type": "error",
     "traceback": [
      "\u001b[1;31m---------------------------------------------------------------------------\u001b[0m",
      "\u001b[1;31mTypeError\u001b[0m                                 Traceback (most recent call last)",
      "Input \u001b[1;32mIn [29]\u001b[0m, in \u001b[0;36m<cell line: 2>\u001b[1;34m()\u001b[0m\n\u001b[0;32m      1\u001b[0m \u001b[38;5;66;03m# 문자 * 문자 = Error\u001b[39;00m\n\u001b[1;32m----> 2\u001b[0m \u001b[38;5;124;43m'\u001b[39;49m\u001b[38;5;124;43mabc\u001b[39;49m\u001b[38;5;124;43m'\u001b[39;49m\u001b[43m \u001b[49m\u001b[38;5;241;43m*\u001b[39;49m\u001b[43m \u001b[49m\u001b[38;5;124;43m'\u001b[39;49m\u001b[38;5;124;43ma\u001b[39;49m\u001b[38;5;124;43m'\u001b[39;49m\n",
      "\u001b[1;31mTypeError\u001b[0m: can't multiply sequence by non-int of type 'str'"
     ]
    }
   ],
   "source": [
    "# 문자 * 문자 = Error\n",
    "'abc' * 'a'"
   ]
  },
  {
   "cell_type": "markdown",
   "id": "35f13fe9",
   "metadata": {},
   "source": [
    "### 2) 비교 연산자 :  문자의 크기를 비교하기 위한 문법 기호 \n",
    "\n",
    "> 문자의 비교 \n",
    "* 대문자 VS 소문자 : 대문자 < 소문자 크기가 더 크다 (아스키코드: A=65, a=97)\n",
    "* 알파벳 : 알파벳 순서가 뒤에 있을수록(a 보다는 z가) 크기가 더 크다.\n",
    "* 문자 길이 : 문자열의 길이가 길 수록 크기가 더 크다(len()으로 확인 가능)"
   ]
  },
  {
   "cell_type": "code",
   "execution_count": 30,
   "id": "e9fbf450",
   "metadata": {},
   "outputs": [
    {
     "data": {
      "text/plain": [
       "True"
      ]
     },
     "execution_count": 30,
     "metadata": {},
     "output_type": "execute_result"
    }
   ],
   "source": [
    "# 대문자 vs 소문자 : 비교연산자(=, !=, < , >) 로 확인\n",
    "'A' < 'a'"
   ]
  },
  {
   "cell_type": "code",
   "execution_count": 31,
   "id": "1e06e30f",
   "metadata": {},
   "outputs": [
    {
     "data": {
      "text/plain": [
       "False"
      ]
     },
     "execution_count": 31,
     "metadata": {},
     "output_type": "execute_result"
    }
   ],
   "source": [
    "# 문자열을 대상으로 할 때에는 무조건 첫 글자 끼리만 비교한다.\n",
    "# 문자 길이는 실제 크기 비교에 영향을 미치지 않음\n",
    "'b' < 'Bus'"
   ]
  },
  {
   "cell_type": "code",
   "execution_count": 32,
   "id": "2458d612",
   "metadata": {},
   "outputs": [
    {
     "data": {
      "text/plain": [
       "True"
      ]
     },
     "execution_count": 32,
     "metadata": {},
     "output_type": "execute_result"
    }
   ],
   "source": [
    "# 문자 길이는 len(문자열) 형식으로 볼 수 있다\n",
    "len('b') < len('BUS')"
   ]
  },
  {
   "cell_type": "code",
   "execution_count": 33,
   "id": "6de132b7",
   "metadata": {},
   "outputs": [
    {
     "data": {
      "text/plain": [
       "True"
      ]
     },
     "execution_count": 33,
     "metadata": {},
     "output_type": "execute_result"
    }
   ],
   "source": [
    "# 영문자와 영문자 이외의 다른 문자간 비교는 무조건 영문자가 작게 나온다\n",
    "# ascii code VS unicode\n",
    "\n",
    "'B' < '가'"
   ]
  },
  {
   "cell_type": "markdown",
   "id": "a3609cbc",
   "metadata": {},
   "source": [
    "# > 인덱스\n",
    "- 아이템(대상이 가지고 있는 최소 단위의 값)의 위치를 나타내는 고유한 번호\n",
    "- 첫 번째 위치는 0부터 시작\n",
    "- 마지막 위치는 -1부터 시작(파이썬 특징)"
   ]
  },
  {
   "cell_type": "code",
   "execution_count": 35,
   "id": "683324a7",
   "metadata": {},
   "outputs": [],
   "source": [
    "# banana라는 문자열에 대해 인덱싱\n",
    "text ='banana'"
   ]
  },
  {
   "cell_type": "code",
   "execution_count": 36,
   "id": "09e8f77b",
   "metadata": {},
   "outputs": [
    {
     "data": {
      "text/plain": [
       "'b'"
      ]
     },
     "execution_count": 36,
     "metadata": {},
     "output_type": "execute_result"
    }
   ],
   "source": [
    "# banana라는 문자열에서 첫 번째 아이템 = 0 번째 인덱스 번호로 접근\n",
    "# 인덱싱 문법  : 객체 (대상 : 값, 자료형)[인덱스번호]\n",
    "text[0]"
   ]
  },
  {
   "cell_type": "code",
   "execution_count": 38,
   "id": "eace6147",
   "metadata": {},
   "outputs": [
    {
     "data": {
      "text/plain": [
       "'a'"
      ]
     },
     "execution_count": 38,
     "metadata": {},
     "output_type": "execute_result"
    }
   ],
   "source": [
    "# 마지막 아이템인 'a'에 접근시켜보세요\n",
    "text[-1]"
   ]
  },
  {
   "cell_type": "markdown",
   "id": "ba1fe94c",
   "metadata": {},
   "source": [
    "### 2) 슬라이싱 : 연속된 범위의 여러 아이템에 접근\n",
    "\n",
    "* 대상객체[처음인덱스 : 마지막인덱스( : 간격)]\n",
    "* 처음인덱스 번호는 포함(n부터~)\n",
    "* 마지막 인덱스번호는 포함하지 않음(m-1까지)\n",
    "* 간격 조정은 할 수도 있고 하지 않을수도 있음(기본은 1씩 증가)"
   ]
  },
  {
   "cell_type": "code",
   "execution_count": 39,
   "id": "d629cae5",
   "metadata": {},
   "outputs": [],
   "source": [
    "# 문자열 생성\n",
    "text =\"hello python world\""
   ]
  },
  {
   "cell_type": "code",
   "execution_count": 40,
   "id": "01bc6974",
   "metadata": {},
   "outputs": [
    {
     "data": {
      "text/plain": [
       "'hello python'"
      ]
     },
     "execution_count": 40,
     "metadata": {},
     "output_type": "execute_result"
    }
   ],
   "source": [
    "# 처음부터 특정 위치까지 : ~python\n",
    "# 처음인덱스 : 0 \n",
    "# 마지막 인덱스 : python의 n 다음 문자가 몇번쩨인지 확인\n",
    "text[0:12]"
   ]
  },
  {
   "cell_type": "code",
   "execution_count": 43,
   "id": "c01c1bde",
   "metadata": {},
   "outputs": [
    {
     "data": {
      "text/plain": [
       "'hello python'"
      ]
     },
     "execution_count": 43,
     "metadata": {},
     "output_type": "execute_result"
    }
   ],
   "source": [
    "# 처음부터 특정위치까지 : ~python\n",
    "# 처음 인덱스 : 0 \n",
    "# 마지막 인덱스 : -7(뒤에서 7번째까지를 가져와야하므로 실제로는 -6까지를 타겟으로)\n",
    "text[0:-6]"
   ]
  },
  {
   "cell_type": "code",
   "execution_count": 44,
   "id": "fbf542c4",
   "metadata": {},
   "outputs": [
    {
     "data": {
      "text/plain": [
       "'hello python'"
      ]
     },
     "execution_count": 44,
     "metadata": {},
     "output_type": "execute_result"
    }
   ],
   "source": [
    "# 첫 인덱스가 0으로 시작한다면 생략 가능\n",
    "text[:-6]"
   ]
  },
  {
   "cell_type": "code",
   "execution_count": 45,
   "id": "ec2da85d",
   "metadata": {},
   "outputs": [
    {
     "data": {
      "text/plain": [
       "'python'"
      ]
     },
     "execution_count": 45,
     "metadata": {},
     "output_type": "execute_result"
    }
   ],
   "source": [
    "# 특정 위치부터 마지막 이이템까지 : python\n",
    "# 처음 인덱스는 : 6\n",
    "# 마지막 인덱스는 : -6\n",
    "# 간격 : 기본값(1)\n",
    "text[6:-6]"
   ]
  },
  {
   "cell_type": "code",
   "execution_count": 46,
   "id": "3d40d64a",
   "metadata": {},
   "outputs": [
    {
     "data": {
      "text/plain": [
       "'hello python world'"
      ]
     },
     "execution_count": 46,
     "metadata": {},
     "output_type": "execute_result"
    }
   ],
   "source": [
    "# 전체 가져오기 : 처음인덱스 , 마지막인덱스를 모두 쓰지 않으면 전체 아이템을 모두 가져오는 결과\n",
    "# 처음 인덱스 가본값 : 0\n",
    "# 마지막 인덱스 기본값 : 마지막까지\n",
    "text[:]"
   ]
  },
  {
   "cell_type": "code",
   "execution_count": 50,
   "id": "ea33101b",
   "metadata": {},
   "outputs": [
    {
     "data": {
      "text/plain": [
       "'hlph r'"
      ]
     },
     "execution_count": 50,
     "metadata": {},
     "output_type": "execute_result"
    }
   ],
   "source": [
    "# 간격을 2로 주려면 :을 두개쓰고 가장 오른쪽에 증강분을 적습니다.\n",
    "text[::3]"
   ]
  },
  {
   "cell_type": "markdown",
   "id": "84a500c9",
   "metadata": {},
   "source": [
    "## > 연습문제 \n",
    "\n",
    "### 20220524미세먼지양호함\n",
    "#### 위의 문장을 weather변수에 저장후 \n",
    "#### 날짜는 data변수에 슬라이싱으로 받고 micro변수에 미세먼지 정도를 \n",
    "#### 슬라이싱으로 받아오도록 만들어서 출력해주세여.\n",
    "\n",
    "출력양식 : <br>\n",
    "날짜 : 20220524\n",
    "날씨 : \"미세먼지양호함\""
   ]
  },
  {
   "cell_type": "code",
   "execution_count": 53,
   "id": "e9765ea1",
   "metadata": {},
   "outputs": [
    {
     "name": "stdout",
     "output_type": "stream",
     "text": [
      "날짜: 20220524\n",
      "날씨: 미세먼지양호함\n"
     ]
    }
   ],
   "source": [
    "weather='20220524미세먼지양호함'\n",
    "date = weather[:-7]\n",
    "micro = weather[-7:]\n",
    "print(\"날짜:\",date)\n",
    "print(\"날씨:\",micro)"
   ]
  },
  {
   "cell_type": "markdown",
   "id": "891baf0a",
   "metadata": {},
   "source": [
    "## > 포매팅 (Formatting)\n",
    "\n",
    "특정 값만 바뀌고 일정한 형식을 가지는 문자열을 작성할 수 있는 기법\n",
    "\n",
    "### 1. %포매팅\n",
    "\n",
    "* 데이터 타입에 따른 분류 : 정수 , 실수 , 문자 \n",
    "* 옵션 길이 : 문자열 길이 , 표현할 아이템 개수 , 정렬 , 공백\n",
    "\n",
    "### 1) 숫자값 대입\n"
   ]
  },
  {
   "cell_type": "code",
   "execution_count": null,
   "id": "b53690d9",
   "metadata": {},
   "outputs": [],
   "source": [
    "#1. 가변자료가 들어갈 자리 (땡댕... 에 해당하는)에 구멍(%자료형)을 낸다\n",
    "#2. 구멍이 뚫린 문자열 뒤에 $로 연결한 다음 집어넣을 값을 적는다.\n"
   ]
  },
  {
   "cell_type": "code",
   "execution_count": 58,
   "id": "29e4a9af",
   "metadata": {},
   "outputs": [
    {
     "data": {
      "text/plain": [
       "'오늘은 24일입니다.'"
      ]
     },
     "execution_count": 58,
     "metadata": {},
     "output_type": "execute_result"
    }
   ],
   "source": [
    "# 정수값 포매팅 : 정수(int) -> %d\n",
    "'오늘은 %d일입니다.' %24"
   ]
  },
  {
   "cell_type": "code",
   "execution_count": 57,
   "id": "5ed8b57d",
   "metadata": {},
   "outputs": [
    {
     "name": "stdout",
     "output_type": "stream",
     "text": [
      "오늘은 25도입니다\n"
     ]
    }
   ],
   "source": [
    "온도 = 25\n",
    "if 온도 == 24:\n",
    "    print('오늘은 24도입니다.')\n",
    "elif 온도 == 25:\n",
    "    print('오늘은 25도입니다')"
   ]
  },
  {
   "cell_type": "code",
   "execution_count": 66,
   "id": "f69168e2",
   "metadata": {},
   "outputs": [
    {
     "data": {
      "text/plain": [
       "'오늘은 16일입니다.'"
      ]
     },
     "execution_count": 66,
     "metadata": {},
     "output_type": "execute_result"
    }
   ],
   "source": [
    "# 정수 자리의 의미 : 출력되는 형식이 정수라는 의미\n",
    "# 반올림이 아니라 소수점 아래를 버린 결과를 출력한다.\n",
    "'오늘은 %d일입니다.' %16.1297528"
   ]
  },
  {
   "cell_type": "code",
   "execution_count": 77,
   "id": "f1272b2f",
   "metadata": {},
   "outputs": [
    {
     "data": {
      "text/plain": [
       "'오늘의 온도는 24.000000도 입니다.'"
      ]
     },
     "execution_count": 77,
     "metadata": {},
     "output_type": "execute_result"
    }
   ],
   "source": [
    "# 실수(float)값 포매팅\n",
    "# %f를 이용하여 값에 대한 구멍을 낸다.\n",
    "# %f는 기본적으로 소수점 6자리까지 표현\n",
    "\"오늘의 온도는 %f도 입니다.\" %24"
   ]
  },
  {
   "cell_type": "code",
   "execution_count": 73,
   "id": "041af467",
   "metadata": {},
   "outputs": [
    {
     "data": {
      "text/plain": [
       "'당신의 점수는 92.123457점 입니다.'"
      ]
     },
     "execution_count": 73,
     "metadata": {},
     "output_type": "execute_result"
    }
   ],
   "source": [
    "# 실수값 포매팅2: 집어넣는 값을 실수로 적용\n",
    "# 실수값 포매팅은 반올림이 적용된다\n",
    "'당신의 점수는 %f점 입니다.' %92.123456789"
   ]
  },
  {
   "cell_type": "code",
   "execution_count": 79,
   "id": "fb7f275c",
   "metadata": {},
   "outputs": [
    {
     "data": {
      "text/plain": [
       "'당신의 점수는 92.1234658점 입니다.'"
      ]
     },
     "execution_count": 79,
     "metadata": {},
     "output_type": "execute_result"
    }
   ],
   "source": [
    "# 옵션 : 소수점 아래 자리를 몇 자리까지 출력할지 정할 수 있음\n",
    "# %0.nf : 소수점 아래 n자리까지만 표현하는 실수\n",
    "'당신의 점수는 %0.7f점 입니다.' %92.123465789"
   ]
  },
  {
   "cell_type": "code",
   "execution_count": 81,
   "id": "dd1ff0bd",
   "metadata": {},
   "outputs": [
    {
     "data": {
      "text/plain": [
       "'오늘은 5월 24일입니다.'"
      ]
     },
     "execution_count": 81,
     "metadata": {},
     "output_type": "execute_result"
    }
   ],
   "source": [
    "# 가변자료를 2개이상 넣는 케이스\n",
    "# 집어넣는 값은 왼쪽부터 하나씩 전달됨\n",
    "# 2개 이상을 집어넣는 경우는 % (1번째 값, 2번째 값...)과 같이 ()로 감싸서 전달한다.\n",
    "'오늘은 %d월 %d일입니다.' %(5,24)"
   ]
  },
  {
   "cell_type": "code",
   "execution_count": 83,
   "id": "d183dda9",
   "metadata": {
    "scrolled": true
   },
   "outputs": [
    {
     "ename": "TypeError",
     "evalue": "%d format: a number is required, not str",
     "output_type": "error",
     "traceback": [
      "\u001b[1;31m---------------------------------------------------------------------------\u001b[0m",
      "\u001b[1;31mTypeError\u001b[0m                                 Traceback (most recent call last)",
      "Input \u001b[1;32mIn [83]\u001b[0m, in \u001b[0;36m<cell line: 2>\u001b[1;34m()\u001b[0m\n\u001b[0;32m      1\u001b[0m \u001b[38;5;66;03m# %d, %f에 숫자가 아닌 자료를 넣으면 에러가 발생합니다.\u001b[39;00m\n\u001b[1;32m----> 2\u001b[0m \u001b[38;5;124;43m'\u001b[39;49m\u001b[38;5;124;43m오늘은 \u001b[39;49m\u001b[38;5;132;43;01m%d\u001b[39;49;00m\u001b[38;5;124;43m월 \u001b[39;49m\u001b[38;5;132;43;01m%d\u001b[39;49;00m\u001b[38;5;124;43m일입니다.\u001b[39;49m\u001b[38;5;124;43m'\u001b[39;49m\u001b[43m \u001b[49m\u001b[38;5;241;43m%\u001b[39;49m\u001b[43m(\u001b[49m\u001b[38;5;124;43m'\u001b[39;49m\u001b[38;5;124;43m5\u001b[39;49m\u001b[38;5;124;43m'\u001b[39;49m\u001b[43m,\u001b[49m\u001b[38;5;124;43m'\u001b[39;49m\u001b[38;5;124;43m24\u001b[39;49m\u001b[38;5;124;43m'\u001b[39;49m\u001b[43m)\u001b[49m\n",
      "\u001b[1;31mTypeError\u001b[0m: %d format: a number is required, not str"
     ]
    }
   ],
   "source": [
    "# %d, %f에 숫자가 아닌 자료를 넣으면 에러가 발생합니다.\n",
    "'오늘은 %d월 %d일입니다.' %('5','24')\n"
   ]
  },
  {
   "cell_type": "markdown",
   "id": "15152e1b",
   "metadata": {},
   "source": [
    "# 2) 문자 대입\n",
    "- %s로 구멍 뚫기\n",
    "- 집어넣는 값에 대해서는 제한이 없다.\n",
    "- 만능 포매팅\n"
   ]
  },
  {
   "cell_type": "code",
   "execution_count": 85,
   "id": "62cf4eef",
   "metadata": {},
   "outputs": [
    {
     "data": {
      "text/plain": [
       "'abc1234님 접속을 환영합니다.'"
      ]
     },
     "execution_count": 85,
     "metadata": {},
     "output_type": "execute_result"
    }
   ],
   "source": [
    "# 집어넣는 값 : 문자 타입\n",
    "'%s님 접속을 환영합니다.' %'abc1234'\n"
   ]
  },
  {
   "cell_type": "markdown",
   "id": "e7fe3f5b",
   "metadata": {},
   "source": [
    "# <<연습문제>>\n",
    "\"날짜 : 2022-05-24/출석률 : 88%\" <br>\n",
    "    - 전달하는 값 : 4개 <br>\n",
    "    - 출석한 학생수 : 16명 <br>\n",
    "    - 총 학생수 : 18명  <br>\n",
    "    - 출석률은 소수점 첫 번쨰 자리에서 반올림 적용"
   ]
  },
  {
   "cell_type": "code",
   "execution_count": 107,
   "id": "626e5247",
   "metadata": {},
   "outputs": [
    {
     "data": {
      "text/plain": [
       "'날짜 : 2022-05-24/출석률 : 88.9%'"
      ]
     },
     "execution_count": 107,
     "metadata": {},
     "output_type": "execute_result"
    }
   ],
   "source": [
    "'날짜 : %s-%s-%s/출석률 : %0.1f%%' %(2022,'05',24,(16/18*100))\n",
    "\n",
    "\n",
    "\n"
   ]
  },
  {
   "cell_type": "markdown",
   "id": "efe24c8e",
   "metadata": {},
   "source": [
    "## > 문자열 내장함수* = 문자열 메서드\n",
    "\n",
    "    └≫ 내장함수 : 특정 데이터 타입이 자체적으로 가지고 있는 속성으로 존재하는 함수\n",
    "    └≫ 문법 : 변수(데이터타입값).함수명()\n",
    "\n",
    "\n",
    "* count( ) : 특정 문자의 개수\n",
    "\n",
    "\n",
    "* find( ) :특정 문자의 인덱스 번호(위치)\n",
    "\n",
    "\n",
    "* join( ) : 특정 기호를 문자열 아이템 사이에 입력\n",
    "\n",
    "\n",
    "* upper( ) : 문자열을 대문자로 변경\n",
    "\n",
    "\n",
    "* lower( ) : 문자열을 소문자로 변경\n",
    "\n",
    "\n",
    "* capitalize( ) : 문자열의 첫 글자를 대문자로\n",
    "\n",
    "\n",
    "* swapcase( ) : 대문자는 소문자로, 소문자는 대문자로 전환\n",
    "\n",
    "\n",
    "* lstrip( ) / rstrip( ) / strip( ) : 좌 / 우 / 앞뒤 공백(기본) 및 특정 문자 지우기\n",
    "\n",
    "\n",
    "* replace( ) : 기존 문자를 새로운 문자로 바꾸기\n",
    "\n",
    "\n",
    "* split( ) : 특정 기호를 기준으로 문자열을 아이템 단위로 나누어 리스트로 반환\n",
    "\n",
    "\n",
    "* center( ) : 문자열 길이를 지정하여 대상 문자열을 중앙 정렬\n",
    "\n",
    "\n",
    "* ljust( ) : 문자열 길이를 지정하여 대상 문자열을 왼쪽 정렬\n",
    "\n",
    "\n",
    "* rjust( ) : 문자열 길이를 지정하여 대상 문자열을 오른쪽 정렬"
   ]
  },
  {
   "cell_type": "code",
   "execution_count": 108,
   "id": "44fd67e0",
   "metadata": {},
   "outputs": [],
   "source": [
    "# 문자열 생성\n",
    "text = 'tomato juice'"
   ]
  },
  {
   "cell_type": "code",
   "execution_count": 110,
   "id": "9f90dd01",
   "metadata": {},
   "outputs": [
    {
     "data": {
      "text/plain": [
       "1"
      ]
     },
     "execution_count": 110,
     "metadata": {},
     "output_type": "execute_result"
    }
   ],
   "source": [
    "# count()\n",
    "# text문자열에서 a의 갯수\n",
    "text.count('a')"
   ]
  },
  {
   "cell_type": "code",
   "execution_count": 116,
   "id": "ec0c4e5a",
   "metadata": {},
   "outputs": [
    {
     "data": {
      "text/plain": [
       "4"
      ]
     },
     "execution_count": 116,
     "metadata": {},
     "output_type": "execute_result"
    }
   ],
   "source": [
    "# find() : 특정 값의 인덱스 번호를 반환\n",
    "# txt 문자열에서의 a의 인덱스 번호\n",
    "# find('찾을자료', 시작인덱스)를 적어주면 특정 인덱스부터만 찾아볼수도 있음\n",
    "# 없는 자료 조회시 -1이라는 인덱스를 리턴\n",
    "text.find('to',1)"
   ]
  },
  {
   "cell_type": "code",
   "execution_count": 117,
   "id": "8f8896a4",
   "metadata": {},
   "outputs": [
    {
     "data": {
      "text/plain": [
       "'TOMATO JUICE'"
      ]
     },
     "execution_count": 117,
     "metadata": {},
     "output_type": "execute_result"
    }
   ],
   "source": [
    "# upper()\n",
    "# 변경한 결과를 시물레이션해서 보여줌(원본자료는 변경되지 않음)\n",
    "text.upper()"
   ]
  },
  {
   "cell_type": "code",
   "execution_count": 118,
   "id": "ffa5cc92",
   "metadata": {},
   "outputs": [
    {
     "data": {
      "text/plain": [
       "'tomato juice'"
      ]
     },
     "execution_count": 118,
     "metadata": {},
     "output_type": "execute_result"
    }
   ],
   "source": [
    "text"
   ]
  },
  {
   "cell_type": "code",
   "execution_count": 119,
   "id": "60e720cd",
   "metadata": {},
   "outputs": [
    {
     "data": {
      "text/plain": [
       "'TOMATO JUICE'"
      ]
     },
     "execution_count": 119,
     "metadata": {},
     "output_type": "execute_result"
    }
   ],
   "source": [
    "text2 = text.upper()\n",
    "text2"
   ]
  },
  {
   "cell_type": "code",
   "execution_count": 121,
   "id": "838bfb7e",
   "metadata": {},
   "outputs": [
    {
     "data": {
      "text/plain": [
       "'tomato juice'"
      ]
     },
     "execution_count": 121,
     "metadata": {},
     "output_type": "execute_result"
    }
   ],
   "source": [
    "text2.lower()\n"
   ]
  },
  {
   "cell_type": "code",
   "execution_count": 122,
   "id": "1d50a5f0",
   "metadata": {},
   "outputs": [],
   "source": [
    "text = '                      123              123                    ' \n"
   ]
  },
  {
   "cell_type": "code",
   "execution_count": 125,
   "id": "c4476aa1",
   "metadata": {},
   "outputs": [
    {
     "data": {
      "text/plain": [
       "'123              123                    '"
      ]
     },
     "execution_count": 125,
     "metadata": {},
     "output_type": "execute_result"
    }
   ],
   "source": [
    "# lstrip() 왼쪽\n",
    "# 문자열의 왼쪽에 있는 공백 전부 제거(가운데는 제거 안함)\n",
    "# 임시적인 결과만 보여줌(원본 변형 X)\n",
    "text.lstrip()\n"
   ]
  },
  {
   "cell_type": "code",
   "execution_count": 126,
   "id": "5f006d87",
   "metadata": {},
   "outputs": [
    {
     "data": {
      "text/plain": [
       "'                      123              123'"
      ]
     },
     "execution_count": 126,
     "metadata": {},
     "output_type": "execute_result"
    }
   ],
   "source": [
    "# rstrip() 오른쪽\n",
    "text.rstrip()"
   ]
  },
  {
   "cell_type": "code",
   "execution_count": 127,
   "id": "c19af10c",
   "metadata": {},
   "outputs": [
    {
     "data": {
      "text/plain": [
       "'123              123'"
      ]
     },
     "execution_count": 127,
     "metadata": {},
     "output_type": "execute_result"
    }
   ],
   "source": [
    "# strip()양쪽 \n",
    "text.strip()"
   ]
  },
  {
   "cell_type": "code",
   "execution_count": 128,
   "id": "68afc7e4",
   "metadata": {},
   "outputs": [
    {
     "data": {
      "text/plain": [
       "'                      456              456                    '"
      ]
     },
     "execution_count": 128,
     "metadata": {},
     "output_type": "execute_result"
    }
   ],
   "source": [
    "# replace(old, new)\n",
    "# 찾아바꾸기, 문자열 내에서 old에 해당하는 문자를 찾아 new로 싹 다 교체.\n",
    "# 공백 찾아 없애기에 쓸 수 있음.\n",
    "# 역시 원본 자료에 바로 저장되지 않고 일시적으로 변경된 결과만 보여줌.\n",
    "text.replace('123','456')"
   ]
  },
  {
   "cell_type": "code",
   "execution_count": 129,
   "id": "3c03bb0d",
   "metadata": {},
   "outputs": [
    {
     "data": {
      "text/plain": [
       "'                      123              123                    '"
      ]
     },
     "execution_count": 129,
     "metadata": {},
     "output_type": "execute_result"
    }
   ],
   "source": [
    "text"
   ]
  },
  {
   "cell_type": "code",
   "execution_count": 130,
   "id": "fc1b1e34",
   "metadata": {},
   "outputs": [
    {
     "data": {
      "text/plain": [
       "'123123'"
      ]
     },
     "execution_count": 130,
     "metadata": {},
     "output_type": "execute_result"
    }
   ],
   "source": [
    "# text 내부 공백을 싹 다 없애보세요.\n",
    "text.replace(' ','')"
   ]
  },
  {
   "cell_type": "code",
   "execution_count": 131,
   "id": "3e5462da",
   "metadata": {},
   "outputs": [
    {
     "data": {
      "text/plain": [
       "'                      123              123                    '"
      ]
     },
     "execution_count": 131,
     "metadata": {},
     "output_type": "execute_result"
    }
   ],
   "source": [
    "text"
   ]
  },
  {
   "cell_type": "code",
   "execution_count": 132,
   "id": "0598193c",
   "metadata": {},
   "outputs": [],
   "source": [
    "text2 = 'a b c'"
   ]
  },
  {
   "cell_type": "code",
   "execution_count": 133,
   "id": "331d37f4",
   "metadata": {},
   "outputs": [
    {
     "data": {
      "text/plain": [
       "['a', 'b', 'c']"
      ]
     },
     "execution_count": 133,
     "metadata": {},
     "output_type": "execute_result"
    }
   ],
   "source": [
    "# .split(\"기준\")\n",
    "# 쪼개기\n",
    "# 기준 입력시 기준점을 기준으로 쪼개고 입력안하면 ' ',\\n,\\t 등을 기준으로 쪼개줌\n",
    "text2.split()"
   ]
  },
  {
   "cell_type": "code",
   "execution_count": 134,
   "id": "47021eee",
   "metadata": {},
   "outputs": [],
   "source": [
    "text3 ='a,b,c,ddes'"
   ]
  },
  {
   "cell_type": "code",
   "execution_count": 137,
   "id": "75193d5a",
   "metadata": {},
   "outputs": [
    {
     "data": {
      "text/plain": [
       "['a', 'b', 'c', 'ddes']"
      ]
     },
     "execution_count": 137,
     "metadata": {},
     "output_type": "execute_result"
    }
   ],
   "source": [
    "# 기준 설정시 공백이 아닌 기준문자를 직접 입력해 쪼개기\n",
    "# \",\"를 대상으로 쪼갤 경우 나오는 text3 결과물은 4개\n",
    "text3.split(',')"
   ]
  },
  {
   "cell_type": "code",
   "execution_count": 140,
   "id": "27d40230",
   "metadata": {},
   "outputs": [
    {
     "data": {
      "text/plain": [
       "'abc'"
      ]
     },
     "execution_count": 140,
     "metadata": {},
     "output_type": "execute_result"
    }
   ],
   "source": [
    "# join()\n",
    "# 왼쪽에 있는 요소를 .join(자료) 의\n",
    "# 자료 인덱스 사이사이에 입력해줌\n",
    "text='abc'\n",
    "\",,\".join(text)[1]\n",
    "text"
   ]
  },
  {
   "cell_type": "code",
   "execution_count": 141,
   "id": "5e824088",
   "metadata": {},
   "outputs": [],
   "source": [
    "# 마지막 인덱스번호 = -1을 써도되고 len(문자열) -1\n",
    "x ='abcdefg'"
   ]
  },
  {
   "cell_type": "code",
   "execution_count": 142,
   "id": "3659516d",
   "metadata": {},
   "outputs": [
    {
     "data": {
      "text/plain": [
       "'g'"
      ]
     },
     "execution_count": 142,
     "metadata": {},
     "output_type": "execute_result"
    }
   ],
   "source": [
    "x[-1]"
   ]
  },
  {
   "cell_type": "code",
   "execution_count": 143,
   "id": "52e85d96",
   "metadata": {},
   "outputs": [
    {
     "data": {
      "text/plain": [
       "'g'"
      ]
     },
     "execution_count": 143,
     "metadata": {},
     "output_type": "execute_result"
    }
   ],
   "source": [
    "x[len(x)-1]"
   ]
  },
  {
   "cell_type": "code",
   "execution_count": null,
   "id": "aaae4c8a",
   "metadata": {},
   "outputs": [],
   "source": []
  },
  {
   "cell_type": "code",
   "execution_count": null,
   "id": "6d3deb70",
   "metadata": {},
   "outputs": [],
   "source": []
  },
  {
   "cell_type": "code",
   "execution_count": null,
   "id": "f87ad681",
   "metadata": {},
   "outputs": [],
   "source": []
  },
  {
   "cell_type": "code",
   "execution_count": null,
   "id": "d4f1868d",
   "metadata": {},
   "outputs": [],
   "source": []
  },
  {
   "cell_type": "code",
   "execution_count": null,
   "id": "71bc99b4",
   "metadata": {},
   "outputs": [],
   "source": []
  },
  {
   "cell_type": "code",
   "execution_count": null,
   "id": "34c164a4",
   "metadata": {},
   "outputs": [],
   "source": []
  },
  {
   "cell_type": "code",
   "execution_count": null,
   "id": "30aee3be",
   "metadata": {},
   "outputs": [],
   "source": []
  },
  {
   "cell_type": "code",
   "execution_count": null,
   "id": "9c755ce4",
   "metadata": {},
   "outputs": [],
   "source": []
  },
  {
   "cell_type": "code",
   "execution_count": null,
   "id": "392469d1",
   "metadata": {},
   "outputs": [],
   "source": []
  },
  {
   "cell_type": "code",
   "execution_count": null,
   "id": "7b886b36",
   "metadata": {},
   "outputs": [],
   "source": []
  },
  {
   "cell_type": "code",
   "execution_count": null,
   "id": "1a935796",
   "metadata": {},
   "outputs": [],
   "source": []
  },
  {
   "cell_type": "code",
   "execution_count": null,
   "id": "04ab9048",
   "metadata": {},
   "outputs": [],
   "source": []
  },
  {
   "cell_type": "code",
   "execution_count": null,
   "id": "d7d0af32",
   "metadata": {},
   "outputs": [],
   "source": []
  }
 ],
 "metadata": {
  "kernelspec": {
   "display_name": "Python 3 (ipykernel)",
   "language": "python",
   "name": "python3"
  },
  "language_info": {
   "codemirror_mode": {
    "name": "ipython",
    "version": 3
   },
   "file_extension": ".py",
   "mimetype": "text/x-python",
   "name": "python",
   "nbconvert_exporter": "python",
   "pygments_lexer": "ipython3",
   "version": "3.9.12"
  }
 },
 "nbformat": 4,
 "nbformat_minor": 5
}
