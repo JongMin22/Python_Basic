{
 "cells": [
  {
   "cell_type": "markdown",
   "id": "492506ba",
   "metadata": {},
   "source": [
    "# << 제어문 >>\n",
    "\n",
    "\n",
    "\n",
    "## 2-1. while 반복문(+조건문)\n",
    "\n",
    "주어진 조건을 판단하여 조건이 참일 동안 특정한 명령문을 반복적으로 수행하는 것\n",
    "\n",
    "▶ 기본 문법 \n",
    "\n",
    "        while 조건문:\n",
    "            반복적으로 수행할 문장1\n",
    "            반복적으로 수행할 문장2\n",
    "            ...\n",
    "            \n",
    "\n",
    "▶ 주의해야할 문법 : \n",
    "\n",
    "- 조건문 뒤에 반드시 콜론(:)을 써야 한다.\n",
    "\n",
    "\n",
    "- 조건문이 있는 문장 하위에 속하는 실행문장들은 반드시 한 번 들여쓰기 되어야 한다. ( 자동 / tab / space 4번)\n",
    "\n",
    "\n",
    "- 무한반복문에 대한 이해와 관련된 키워드(break, continue 등)를 활용할 수 있어야 한다.\n",
    "\n",
    "\n",
    "\n",
    "\n",
    "▶ 무한반복문 : 조건문이 무조건 참인 경우, while 반복문은 무한히 반복된다.\n",
    "\n",
    "- break 키워드 : 특정 조건을 만족할 경우 제어문을 빠져나가 반복을 종료한다.\n",
    "\n",
    "\n",
    "- continue : 특정 조건을 만족할 경우 반복문을 종료하는 것이 아니라 반복문의 시작으로 돌아간다. (참고) pass \n"
   ]
  },
  {
   "cell_type": "code",
   "execution_count": null,
   "id": "2cf03db3",
   "metadata": {},
   "outputs": [],
   "source": [
    "# Hello World 3번 출력\n",
    "loop = 0\n",
    "while loop <=2:\n",
    "    loop+=1\n",
    "    print(\"Hello World\")"
   ]
  },
  {
   "cell_type": "code",
   "execution_count": 2,
   "id": "83d87e8b",
   "metadata": {},
   "outputs": [
    {
     "name": "stdout",
     "output_type": "stream",
     "text": [
      "무한루프\n",
      "무한루프\n",
      "무한루프\n"
     ]
    }
   ],
   "source": [
    "# while문의 조건식이 무조건 참으로만 판단되는 경우 무한루프가 된다.\n",
    "# 이경우 보통 break문을 조합해 종료시킨다.\n",
    "a=1\n",
    "while True:\n",
    "    print(\"무한루프\")\n",
    "    if a >  2 :\n",
    "        break\n",
    "    a += 1            \n"
   ]
  },
  {
   "cell_type": "code",
   "execution_count": 41,
   "id": "6fdd383e",
   "metadata": {},
   "outputs": [
    {
     "name": "stdout",
     "output_type": "stream",
     "text": [
      "3\n",
      "5\n",
      "7\n",
      "9\n"
     ]
    }
   ],
   "source": [
    "# 돌던 바퀴만 스킵하고 전체 반복문 실행은 유지하고 싶다면 continue를 사용한다.\n",
    "a = 1\n",
    "while a < 10:\n",
    "    a+=1\n",
    "    if a%2 == 0:\n",
    "        continue\n",
    "    print(a)"
   ]
  },
  {
   "cell_type": "markdown",
   "id": "90595391",
   "metadata": {},
   "source": [
    "#### 학생들의 점수를 나타내는 리스트에서 아래의 구간으로 학점을 매기고 , 각 학점별로 몇명이 있는지 데이터타입으로 저장하세요.\n",
    "- 점수구간\n",
    "\n",
    "    81점 ~ 100점 = A \n",
    "    \n",
    "    61점 ~ 80점 = B\n",
    "    \n",
    "    41점 ~ 60점 = C\n",
    "    \n",
    "    ~ 40점 = Fail"
   ]
  },
  {
   "cell_type": "code",
   "execution_count": 46,
   "id": "467671b5",
   "metadata": {},
   "outputs": [
    {
     "data": {
      "text/plain": [
       "[90, 89, 83, 61, 69, 77, 75, 64, 45, 56, 50, 10, 20]"
      ]
     },
     "execution_count": 46,
     "metadata": {},
     "output_type": "execute_result"
    }
   ],
   "source": [
    "scores=[90,89,83,61,69,77,75,64,45,56,50,10,20]\n",
    "scores"
   ]
  },
  {
   "cell_type": "code",
   "execution_count": 47,
   "id": "8e6cd5d1",
   "metadata": {},
   "outputs": [],
   "source": [
    "a = []\n",
    "b = []\n",
    "c = []\n",
    "f = []\n",
    "while scores:\n",
    "    score = scores.pop()\n",
    "    if score > 80:\n",
    "        a.append(score)\n",
    "    elif score > 60:\n",
    "        b.append(score)\n",
    "    elif score > 40:\n",
    "        c.append(score)\n",
    "    else:\n",
    "        f.append(score)\n",
    "        \n",
    "    \n",
    "\n",
    "\n",
    "    "
   ]
  },
  {
   "cell_type": "code",
   "execution_count": 48,
   "id": "05aabd10",
   "metadata": {},
   "outputs": [
    {
     "data": {
      "text/plain": [
       "([83, 89, 90], [64, 75, 77, 69, 61], [50, 56, 45], [20, 10])"
      ]
     },
     "execution_count": 48,
     "metadata": {},
     "output_type": "execute_result"
    }
   ],
   "source": [
    "a,b,c,f"
   ]
  }
 ],
 "metadata": {
  "kernelspec": {
   "display_name": "Python 3 (ipykernel)",
   "language": "python",
   "name": "python3"
  },
  "language_info": {
   "codemirror_mode": {
    "name": "ipython",
    "version": 3
   },
   "file_extension": ".py",
   "mimetype": "text/x-python",
   "name": "python",
   "nbconvert_exporter": "python",
   "pygments_lexer": "ipython3",
   "version": "3.9.12"
  }
 },
 "nbformat": 4,
 "nbformat_minor": 5
}
