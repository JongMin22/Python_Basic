{
 "cells": [
  {
   "cell_type": "markdown",
   "id": "9c7acdad",
   "metadata": {},
   "source": [
    "# browserless 크롤링\n",
    "\n",
    "- 앞선 selenium은 물리적으로 직접 브라우저를 켜 놓고 크롤링을 했습니다.\n",
    "- 이렇게 크롤링을 하면 사람과 컴퓨터를 구분할 수 없기 때문에 크롤링을 막는 사이트를 뚫기 유용하고\n",
    "- 무엇보다 눈에 동작이 보여서 직관적이지만 실행속도가 느리다는 단점이 있습니다.\n",
    "\n",
    "- selenium을 통한 크롤링 시에는 특히 비동기 요청이나 api크롤링을 하는데 어려움이 있기 때문에\n",
    "- 이를 보안하기 위해 requests를 사용합니다.\n"
   ]
  },
  {
   "cell_type": "code",
   "execution_count": 19,
   "id": "ca88f4ee",
   "metadata": {},
   "outputs": [],
   "source": [
    "# import requests # selenium과 달리 내장되어 있어서 따로 설치할 필요없음\n",
    "# 크롤링 작업을 위한 라이브러리 임포트\n",
    "from bs4 import BeautifulSoup   # 웹에서 가져온 데이터를 정제하는 역할\n",
    "import requests                 # 파이썬에서 다이렉트로 자료를 요청하는 역할\n",
    "from selenium import webdriver # 크롬창을 켜주는 역할\n",
    "import time                    # 코드 중간에 딜레이를 넣는 역할\n",
    "import codecs"
   ]
  },
  {
   "cell_type": "code",
   "execution_count": 13,
   "id": "51ae625a",
   "metadata": {},
   "outputs": [],
   "source": [
    "# 1. request.get(\"접속주소\")로 접속\n",
    "res = requests.get(\"https://www.naver.com\")\n",
    "# 2. 받아온 변수 res.text를 하면 해당 페이지 소스코드가 나옵니다.\n",
    "source = res.text\n",
    "parsed_source =  BeautifulSoup(source, \"html.parser\")"
   ]
  },
  {
   "cell_type": "code",
   "execution_count": 20,
   "id": "88f40b16",
   "metadata": {},
   "outputs": [],
   "source": [
    "# 위 내용을 토대로 교보문고 순회 크롤러를 이용해 1위~200위까지의 도서 제목,가격,저자를 얻어와서\n",
    "# text나 csv파일로 만들어주세요.\n",
    "\n",
    "for i in range(11):\n",
    "    \n",
    "    res = requests.get(\"https://www.kyobobook.co.kr/bestSellerNew/bestseller.laf?targetPage=%s\" %i) \n",
    "    time.sleep(2)\n",
    "    source = res.text\n",
    "    parsed_source =  BeautifulSoup(source, \"html.parser\")\n",
    "    \n",
    "    title_list = parsed_source.find_all(\"div\",class_=\"title\")\n",
    "    author= parsed_source.find_all(\"div\",class_=\"author\")\n",
    "    price = parsed_source.find_all(\"strong\",class_=\"book_price\")\n",
    "    \n",
    "    f=codecs.open(\"C:/crawler1/WeekBest.txt\", encoding=\"utf-8\", mode=\"w\")\n",
    "    for i in range(len(title)):\n",
    "        f.write(title[i].text.replace(\",\",\"\"),\",\")\n",
    "        f.write(author[i].text.replace(\",\",\"\"),\",\")\n",
    "        f.write(price[i].text.replace(\",\",\"\"),\"\\n\")\n",
    "        \n",
    "f.close()        \n",
    "    \n",
    "    "
   ]
  },
  {
   "cell_type": "code",
   "execution_count": 77,
   "id": "492b5cd3",
   "metadata": {},
   "outputs": [
    {
     "name": "stdout",
     "output_type": "stream",
     "text": [
      "1번 페이지 진행중\n",
      "2번 페이지 진행중\n",
      "3번 페이지 진행중\n",
      "4번 페이지 진행중\n",
      "5번 페이지 진행중\n",
      "6번 페이지 진행중\n",
      "7번 페이지 진행중\n",
      "8번 페이지 진행중\n",
      "9번 페이지 진행중\n",
      "10번 페이지 진행중\n"
     ]
    }
   ],
   "source": [
    "\n",
    "total_title=[]\n",
    "total_author=[]\n",
    "total_price=[]\n",
    "\n",
    "for i in range(1,11):\n",
    "        print(\"%s번 페이지 진행중\" %i)\n",
    "        res = requests.get(\"https://www.kyobobook.co.kr/bestSellerNew/bestseller.laf?targetPage=%s\" %i)\n",
    "        time.sleep(2)\n",
    "        source = res.text\n",
    "        parsed_source =  BeautifulSoup(source, \"html.parser\")\n",
    "        parsed_source =  parsed_source.find_all(\"ul\",class_=\"list_type01\")[0]\n",
    "        \n",
    "        div_title_list = parsed_source.find_all(\"div\",class_=\"title\")\n",
    "        div_author_list = parsed_source.find_all(\"div\",class_=\"author\")\n",
    "        div_price_list = parsed_source.find_all(\"div\",class_=\"price\")\n",
    "        \n",
    "        for item in div_title_list:\n",
    "            total_title.append('\"'+item.text.strip()+'\"')\n",
    "        for item in div_author_list:\n",
    "            total_author.append(item.text.strip().replace(\"\\t\",\"\").replace(\"\\r\\n\",\"\").replace(\"\\n\",\"\"))\n",
    "        for item in div_price_list:\n",
    "            total_price.append(item.text.strip().replace(\"\\t\",\"\").replace(\"\\r\\n\",\"\").replace(\"\\n\",\"\").replace(\" \",\"\"))    \n",
    "\n",
    "        time.sleep(2)            "
   ]
  },
  {
   "cell_type": "code",
   "execution_count": 47,
   "id": "46ec5560",
   "metadata": {},
   "outputs": [
    {
     "name": "stdout",
     "output_type": "stream",
     "text": [
      "20\n"
     ]
    }
   ],
   "source": [
    "    res = requests.get(\"https://www.kyobobook.co.kr/bestSellerNew/bestseller.laf?targetPage=%s\" %1)\n",
    "    time.sleep(2)\n",
    "    source = res.text\n",
    "    parsed_source =  BeautifulSoup(source, \"html.parser\")\n",
    "        \n",
    "    detail_list = parsed_source.find_all(\"div\",class_=\"detail\") \n",
    "    \n",
    "    print(len(detail_list))"
   ]
  },
  {
   "cell_type": "code",
   "execution_count": 79,
   "id": "aa0b2129",
   "metadata": {},
   "outputs": [],
   "source": [
    "# total_title=[],total_author=[],total_price=[]를 이용해 csv생성\n",
    "\n",
    "f=codecs.open(\"C:/crawler1/WeekBest.txt\", encoding=\"utf-8\", mode=\"w\")\n",
    "\n",
    "f.write(\"제목,저자,가격\\n\")\n",
    "for i in range(len(total_title)):\n",
    "    f.write(total_title[i] + \",\")\n",
    "    f.write(total_author[i] + \",\")\n",
    "    f.write(total_price[i] + \"\\n\")"
   ]
  },
  {
   "cell_type": "code",
   "execution_count": null,
   "id": "35d1bbb2",
   "metadata": {},
   "outputs": [],
   "source": []
  },
  {
   "cell_type": "code",
   "execution_count": null,
   "id": "9fdfa92f",
   "metadata": {},
   "outputs": [],
   "source": []
  },
  {
   "cell_type": "code",
   "execution_count": null,
   "id": "afc0e4b0",
   "metadata": {},
   "outputs": [],
   "source": []
  },
  {
   "cell_type": "code",
   "execution_count": null,
   "id": "a98649fd",
   "metadata": {},
   "outputs": [],
   "source": []
  },
  {
   "cell_type": "code",
   "execution_count": null,
   "id": "1935da07",
   "metadata": {},
   "outputs": [],
   "source": []
  }
 ],
 "metadata": {
  "kernelspec": {
   "display_name": "Python 3 (ipykernel)",
   "language": "python",
   "name": "python3"
  },
  "language_info": {
   "codemirror_mode": {
    "name": "ipython",
    "version": 3
   },
   "file_extension": ".py",
   "mimetype": "text/x-python",
   "name": "python",
   "nbconvert_exporter": "python",
   "pygments_lexer": "ipython3",
   "version": "3.9.12"
  }
 },
 "nbformat": 4,
 "nbformat_minor": 5
}
