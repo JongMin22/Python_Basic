{
 "cells": [
  {
   "cell_type": "markdown",
   "id": "5fc03c8b",
   "metadata": {},
   "source": [
    "# 영화진흥위원회 api 크롤링\n",
    "\n",
    "http://kobis.or.kr/kobisopenapi/webservice/rest/boxoffice/searchDailyBoxOfficeList.json?key=f5eef3421c602c6cb7ea224104795888&targetDt=20120101\n",
    "<br>\n",
    "위 주소를 보면 파라미터로 <br>\n",
    "key와 targetDt가 있는걸 볼 수 있습니다. <br>\n",
    "<br>\n",
    "<br>\n",
    "여기서 key는 회원가입을 하면 발급해주는 개인 식별용 키입니다.<br>\n",
    "키를 발급해주는 이유는 일일 요청횟수를 제한해서 서버 메모리를 절약하기 위함입니다.<br>\n",
    "<br><br>\n",
    "targetDt는 타겟 날짜로, 현재 이 api 요청 주소는 일일 박스오피스입니다.\n",
    "\n",
    "<br>\n",
    "<br>\n",
    "api 서버 접근시 파이썬에서는 보통 urllib.request를 활용합니다"
   ]
  },
  {
   "cell_type": "code",
   "execution_count": 12,
   "id": "b263b71b",
   "metadata": {},
   "outputs": [],
   "source": [
    "# 사이트에 자료 요청용 라이브러리 임포트\n",
    "import urllib.request\n",
    "# json데이터 핸들링용\n",
    "import json\n",
    "import codecs"
   ]
  },
  {
   "cell_type": "code",
   "execution_count": 18,
   "id": "7ed3b6fc",
   "metadata": {},
   "outputs": [
    {
     "name": "stdout",
     "output_type": "stream",
     "text": [
      "http://kobis.or.kr/kobisopenapi/webservice/rest/boxoffice/searchDailyBoxOfficeList.json?key=f5eef3421c602c6cb7ea224104795888&targetDt=20200101\n"
     ]
    }
   ],
   "source": [
    "key = \"f5eef3421c602c6cb7ea224104795888\"\n",
    "target_dt = \"20200101\"\n",
    "request_url =\"http://kobis.or.kr/kobisopenapi/webservice/rest/\\\n",
    "boxoffice/searchDailyBoxOfficeList.json?key=%s&targetDt=%s\" %(key, target_dt)\n",
    "\n",
    "print(request_url)"
   ]
  },
  {
   "cell_type": "code",
   "execution_count": 7,
   "id": "1789b279",
   "metadata": {},
   "outputs": [],
   "source": [
    "# 위에 세팅된 주소로 요청을 넣어보겠습니다.\n",
    "result = urllib.request.urlopen(request_url)"
   ]
  },
  {
   "cell_type": "code",
   "execution_count": 20,
   "id": "5df8e42c",
   "metadata": {},
   "outputs": [
    {
     "data": {
      "text/plain": [
       "<http.client.HTTPResponse at 0x18aade1ba30>"
      ]
     },
     "execution_count": 20,
     "metadata": {},
     "output_type": "execute_result"
    }
   ],
   "source": [
    "result"
   ]
  },
  {
   "cell_type": "code",
   "execution_count": 8,
   "id": "fc911203",
   "metadata": {},
   "outputs": [],
   "source": [
    "# 얻어진 데이터의 json만 뽑기위해 .read()를 사용합니다.\n",
    "json_raw = result.read()"
   ]
  },
  {
   "cell_type": "code",
   "execution_count": 9,
   "id": "3d7f612b",
   "metadata": {},
   "outputs": [
    {
     "name": "stdout",
     "output_type": "stream",
     "text": [
      "<class 'bytes'>\n"
     ]
    }
   ],
   "source": [
    "print(type(json_raw))"
   ]
  },
  {
   "cell_type": "code",
   "execution_count": 21,
   "id": "1d2e74bc",
   "metadata": {},
   "outputs": [
    {
     "data": {
      "text/plain": [
       "{'boxofficeType': '일별 박스오피스',\n",
       " 'showRange': '20210605~20210605',\n",
       " 'dailyBoxOfficeList': [{'rnum': '1',\n",
       "   'rank': '1',\n",
       "   'rankInten': '0',\n",
       "   'rankOldAndNew': 'OLD',\n",
       "   'movieCd': '20217736',\n",
       "   'movieNm': '컨저링3: 악마가 시켰다',\n",
       "   'openDt': '2021-06-03',\n",
       "   'salesAmt': '1240557090',\n",
       "   'salesShare': '36.1',\n",
       "   'salesInten': '627547660',\n",
       "   'salesChange': '102.4',\n",
       "   'salesAcc': '2356017950',\n",
       "   'audiCnt': '122497',\n",
       "   'audiInten': '62605',\n",
       "   'audiChange': '104.5',\n",
       "   'audiAcc': '233636',\n",
       "   'scrnCnt': '1133',\n",
       "   'showCnt': '3799'},\n",
       "  {'rnum': '2',\n",
       "   'rank': '2',\n",
       "   'rankInten': '0',\n",
       "   'rankOldAndNew': 'OLD',\n",
       "   'movieCd': '20216362',\n",
       "   'movieNm': '크루엘라',\n",
       "   'openDt': '2021-05-26',\n",
       "   'salesAmt': '1092233490',\n",
       "   'salesShare': '31.8',\n",
       "   'salesInten': '682119260',\n",
       "   'salesChange': '166.3',\n",
       "   'salesAcc': '5352564950',\n",
       "   'audiCnt': '109604',\n",
       "   'audiInten': '68344',\n",
       "   'audiChange': '165.6',\n",
       "   'audiAcc': '567610',\n",
       "   'scrnCnt': '1186',\n",
       "   'showCnt': '3757'},\n",
       "  {'rnum': '3',\n",
       "   'rank': '3',\n",
       "   'rankInten': '0',\n",
       "   'rankOldAndNew': 'OLD',\n",
       "   'movieCd': '20205041',\n",
       "   'movieNm': '분노의 질주: 더 얼티메이트',\n",
       "   'openDt': '2021-05-19',\n",
       "   'salesAmt': '726036070',\n",
       "   'salesShare': '21.1',\n",
       "   'salesInten': '424503320',\n",
       "   'salesChange': '140.8',\n",
       "   'salesAcc': '19105935180',\n",
       "   'audiCnt': '73784',\n",
       "   'audiInten': '42678',\n",
       "   'audiChange': '137.2',\n",
       "   'audiAcc': '1982217',\n",
       "   'scrnCnt': '1161',\n",
       "   'showCnt': '3616'},\n",
       "  {'rnum': '4',\n",
       "   'rank': '4',\n",
       "   'rankInten': '1',\n",
       "   'rankOldAndNew': 'OLD',\n",
       "   'movieCd': '20200703',\n",
       "   'movieNm': '극장판 귀멸의 칼날: 무한열차편',\n",
       "   'openDt': '2021-01-27',\n",
       "   'salesAmt': '159909470',\n",
       "   'salesShare': '4.7',\n",
       "   'salesInten': '142669100',\n",
       "   'salesChange': '827.5',\n",
       "   'salesAcc': '20158379430',\n",
       "   'audiCnt': '16877',\n",
       "   'audiInten': '15206',\n",
       "   'audiChange': '910',\n",
       "   'audiAcc': '2092731',\n",
       "   'scrnCnt': '274',\n",
       "   'showCnt': '371'},\n",
       "  {'rnum': '5',\n",
       "   'rank': '5',\n",
       "   'rankInten': '-1',\n",
       "   'rankOldAndNew': 'OLD',\n",
       "   'movieCd': '20194461',\n",
       "   'movieNm': '파이프라인',\n",
       "   'openDt': '2021-05-26',\n",
       "   'salesAmt': '44556780',\n",
       "   'salesShare': '1.3',\n",
       "   'salesInten': '13541860',\n",
       "   'salesChange': '43.7',\n",
       "   'salesAcc': '1045001320',\n",
       "   'audiCnt': '4677',\n",
       "   'audiInten': '1188',\n",
       "   'audiChange': '34',\n",
       "   'audiAcc': '119058',\n",
       "   'scrnCnt': '400',\n",
       "   'showCnt': '628'},\n",
       "  {'rnum': '6',\n",
       "   'rank': '6',\n",
       "   'rankInten': '0',\n",
       "   'rankOldAndNew': 'OLD',\n",
       "   'movieCd': '20216083',\n",
       "   'movieNm': '프로페서 앤 매드맨',\n",
       "   'openDt': '2021-06-02',\n",
       "   'salesAmt': '21466710',\n",
       "   'salesShare': '0.6',\n",
       "   'salesInten': '7813040',\n",
       "   'salesChange': '57.2',\n",
       "   'salesAcc': '97800970',\n",
       "   'audiCnt': '2424',\n",
       "   'audiInten': '801',\n",
       "   'audiChange': '49.4',\n",
       "   'audiAcc': '11294',\n",
       "   'scrnCnt': '282',\n",
       "   'showCnt': '384'},\n",
       "  {'rnum': '7',\n",
       "   'rank': '7',\n",
       "   'rankInten': '1',\n",
       "   'rankOldAndNew': 'OLD',\n",
       "   'movieCd': '20217707',\n",
       "   'movieNm': '뱅드림! 로젤리아 에피소드Ⅰ: 약속',\n",
       "   'openDt': '2021-06-03',\n",
       "   'salesAmt': '21420130',\n",
       "   'salesShare': '0.6',\n",
       "   'salesInten': '11137320',\n",
       "   'salesChange': '108.3',\n",
       "   'salesAcc': '49392990',\n",
       "   'audiCnt': '2352',\n",
       "   'audiInten': '1319',\n",
       "   'audiChange': '127.7',\n",
       "   'audiAcc': '5335',\n",
       "   'scrnCnt': '141',\n",
       "   'showCnt': '192'},\n",
       "  {'rnum': '8',\n",
       "   'rank': '8',\n",
       "   'rankInten': '9',\n",
       "   'rankOldAndNew': 'OLD',\n",
       "   'movieCd': '20217478',\n",
       "   'movieNm': '도라에몽: 스탠바이미 2',\n",
       "   'openDt': '2021-05-19',\n",
       "   'salesAmt': '18195880',\n",
       "   'salesShare': '0.5',\n",
       "   'salesInten': '16502880',\n",
       "   'salesChange': '974.8',\n",
       "   'salesAcc': '669460420',\n",
       "   'audiCnt': '2103',\n",
       "   'audiInten': '1887',\n",
       "   'audiChange': '873.6',\n",
       "   'audiAcc': '76861',\n",
       "   'scrnCnt': '162',\n",
       "   'showCnt': '186'},\n",
       "  {'rnum': '9',\n",
       "   'rank': '9',\n",
       "   'rankInten': '0',\n",
       "   'rankOldAndNew': 'OLD',\n",
       "   'movieCd': '20217573',\n",
       "   'movieNm': '굴뚝마을의 푸펠',\n",
       "   'openDt': '2021-05-26',\n",
       "   'salesAmt': '19680640',\n",
       "   'salesShare': '0.6',\n",
       "   'salesInten': '13757540',\n",
       "   'salesChange': '232.3',\n",
       "   'salesAcc': '156063350',\n",
       "   'audiCnt': '2029',\n",
       "   'audiInten': '1327',\n",
       "   'audiChange': '189',\n",
       "   'audiAcc': '18351',\n",
       "   'scrnCnt': '164',\n",
       "   'showCnt': '247'},\n",
       "  {'rnum': '10',\n",
       "   'rank': '10',\n",
       "   'rankInten': '-3',\n",
       "   'rankOldAndNew': 'OLD',\n",
       "   'movieCd': '20217121',\n",
       "   'movieNm': '낫아웃',\n",
       "   'openDt': '2021-06-03',\n",
       "   'salesAmt': '10213900',\n",
       "   'salesShare': '0.3',\n",
       "   'salesInten': '510270',\n",
       "   'salesChange': '5.3',\n",
       "   'salesAcc': '38572490',\n",
       "   'audiCnt': '1169',\n",
       "   'audiInten': '-25',\n",
       "   'audiChange': '-2.1',\n",
       "   'audiAcc': '4529',\n",
       "   'scrnCnt': '177',\n",
       "   'showCnt': '231'}]}"
      ]
     },
     "execution_count": 21,
     "metadata": {},
     "output_type": "execute_result"
    }
   ],
   "source": [
    "# 형식을 한글을 쓸 수 있는 utf-8형식으로 고쳐야 합니다. -> encode(), 복원 ->  decode()\n",
    "# encode => 우리가 쓰는 문자를ㄹ 컴퓨터가 쓰는 형태로 변한\n",
    "# decode = > 컴퓨터가 쓰는 문자를 우리가 쓰는 형태로 변환\n",
    "json_utf8 = json_raw.decode(\"utf-8\")\n",
    "json.loads(json_utf8)['boxOfficeResult']"
   ]
  },
  {
   "cell_type": "code",
   "execution_count": 28,
   "id": "5a51fe82",
   "metadata": {},
   "outputs": [],
   "source": [
    "# json.loads(딕셔너리 형태의 문자열)\n",
    "# json(딕셔너리) 형태로 적힌 문자열 자료를 딕셔너리로 변환\n",
    "\n",
    "movie_list =[]\n",
    "movie_rank = []\n",
    "# 제목\n",
    "movie_title = []\n",
    "# 상영횟수\n",
    "movie_showCnt = []\n",
    "# 전일 대비 매출액 증감비율\n",
    "movie_salesChange=[]\n",
    "# 전일 대비 매출액 증감분\n",
    "movie_salesInten=[]\n",
    "# 개봉일\n",
    "movie_openDt=[]\n",
    "# 랭킹에 신규 진입여부 \n",
    "movie_rankOldAndNew=[]\n",
    "# 영화의 대표코드\n",
    "movie_Cd=[]\n",
    "\n",
    "\n",
    "\n",
    "\n",
    "for i in range(3):\n",
    "    movie_list.append(json.loads(json_utf8)['boxOfficeResult']['dailyBoxOfficeList'][i])\n",
    "    movie_rank.append(json.loads(json_utf8)['boxOfficeResult']['dailyBoxOfficeList'][i]['rank'])\n",
    "    movie_title.append(json.loads(json_utf8)['boxOfficeResult']['dailyBoxOfficeList'][i]['movieNm'])\n",
    "    movie_showCnt.append(json.loads(json_utf8)['boxOfficeResult']['dailyBoxOfficeList'][i]['showCnt'])\n",
    "    movie_salesChange.append(json.loads(json_utf8)['boxOfficeResult']['dailyBoxOfficeList'][i]['salesChange'])\n",
    "    movie_salesInten.append(json.loads(json_utf8)['boxOfficeResult']['dailyBoxOfficeList'][i]['salesInten'])\n",
    "    movie_openDt.append(json.loads(json_utf8)['boxOfficeResult']['dailyBoxOfficeList'][i]['openDt'])\n",
    "    movie_rankOldAndNew.append(json.loads(json_utf8)['boxOfficeResult']['dailyBoxOfficeList'][i]['rankOldAndNew'])\n",
    "    movie_Cd.append(json.loads(json_utf8)['boxOfficeResult']['dailyBoxOfficeList'][i]['movieCd'])\n",
    "\n",
    "    \n"
   ]
  },
  {
   "cell_type": "code",
   "execution_count": 31,
   "id": "aa4cc4d5",
   "metadata": {},
   "outputs": [],
   "source": [
    "f=codecs.open(\"C:/crawler1/MovieInfo.txt\", encoding=\"utf-8\", mode=\"w\")\n",
    "\n",
    "# 제목\n",
    "# movie_title = []\n",
    "# 상영횟수\n",
    "# movie_showCnt = []\n",
    "# 전일 대비 매출액 증감비율\n",
    "# movie_salesChange=[]\n",
    "# 전일 대비 매출액 증감분\n",
    "# movie_salesInten=[]\n",
    "# 개봉일\n",
    "# movie_openDt=[]\n",
    "# 랭킹에 신규 진입여부 \n",
    "# movie_rankOldAndNew=[]\n",
    "# 영화의 대표코드\n",
    "# movie_Cd=[]\n",
    "for i in range(len(movie_list)):\n",
    "    f.write(\"제목 : \" + movie_title[i] + \"\\n\")\n",
    "    f.write(\"상영횟수 : \" + movie_showCnt[i] + \"\\n\")\n",
    "    f.write(\"매출 증감비율 : \" + movie_salesChange[i] + \"\\n\")\n",
    "    f.write(\"매출액 증감분 : \" + movie_salesInten[i]+ \"\\n\")\n",
    "    f.write(\"개봉일 : \" + movie_openDt[i]+ \"\\n\")\n",
    "    f.write(\"신규 진입여부 : \" + movie_rankOldAndNew[i]+ \"\\n\")\n",
    "    f.write(\"대표코드 : \" + movie_Cd[i]+ \"\\n\")\n",
    "    f.write(\"====================================================\\n\")\n",
    "    \n",
    "    \n",
    "    \n",
    "\n"
   ]
  },
  {
   "cell_type": "code",
   "execution_count": 23,
   "id": "fcef625b",
   "metadata": {},
   "outputs": [
    {
     "data": {
      "text/plain": [
       "['20217736', '20216362', '20205041']"
      ]
     },
     "execution_count": 23,
     "metadata": {},
     "output_type": "execute_result"
    }
   ],
   "source": [
    "movie_Cd"
   ]
  },
  {
   "cell_type": "code",
   "execution_count": null,
   "id": "04631240",
   "metadata": {},
   "outputs": [],
   "source": []
  },
  {
   "cell_type": "code",
   "execution_count": null,
   "id": "4d8cf543",
   "metadata": {},
   "outputs": [],
   "source": []
  },
  {
   "cell_type": "code",
   "execution_count": null,
   "id": "b6942c19",
   "metadata": {},
   "outputs": [],
   "source": []
  },
  {
   "cell_type": "code",
   "execution_count": null,
   "id": "3308ad8e",
   "metadata": {},
   "outputs": [],
   "source": []
  },
  {
   "cell_type": "code",
   "execution_count": null,
   "id": "0eba1422",
   "metadata": {},
   "outputs": [],
   "source": []
  },
  {
   "cell_type": "code",
   "execution_count": null,
   "id": "b3a629c7",
   "metadata": {},
   "outputs": [],
   "source": []
  }
 ],
 "metadata": {
  "kernelspec": {
   "display_name": "Python 3 (ipykernel)",
   "language": "python",
   "name": "python3"
  },
  "language_info": {
   "codemirror_mode": {
    "name": "ipython",
    "version": 3
   },
   "file_extension": ".py",
   "mimetype": "text/x-python",
   "name": "python",
   "nbconvert_exporter": "python",
   "pygments_lexer": "ipython3",
   "version": "3.9.12"
  }
 },
 "nbformat": 4,
 "nbformat_minor": 5
}
